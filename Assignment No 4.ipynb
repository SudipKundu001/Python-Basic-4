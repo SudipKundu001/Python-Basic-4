{
 "cells": [
  {
   "cell_type": "markdown",
   "id": "5daa5958",
   "metadata": {},
   "source": [
    ">__1. What exactly is []?__"
   ]
  },
  {
   "cell_type": "markdown",
   "id": "e901fba2",
   "metadata": {},
   "source": [
    "Ans.  [] is a list: A mutable collection of values, usually (but not necessarily) of the same type."
   ]
  },
  {
   "cell_type": "markdown",
   "id": "27cbe555",
   "metadata": {},
   "source": [
    ">__2. In a list of values stored in a variable called spam, how would you assign the value 'hello' as the third value? (Assume [2, 4, 6, 8, 10] are in spam.)__"
   ]
  },
  {
   "cell_type": "code",
   "execution_count": 3,
   "id": "85aea2d3",
   "metadata": {},
   "outputs": [
    {
     "name": "stdout",
     "output_type": "stream",
     "text": [
      "[2, 4, 'hello', 6, 8, 10]\n"
     ]
    }
   ],
   "source": [
    "spam = [2,4,6,8,10]\n",
    "spam.insert(2,'hello')\n",
    "print(spam)"
   ]
  },
  {
   "cell_type": "markdown",
   "id": "ee01e870",
   "metadata": {},
   "source": [
    ">__Let's pretend the spam includes the list ['a', 'b', 'c', 'd'] for the next three queries.<br>3. What is the value of spam[int(int('3' * 2) / 11)]?__"
   ]
  },
  {
   "cell_type": "code",
   "execution_count": 4,
   "id": "70241ebc",
   "metadata": {},
   "outputs": [
    {
     "name": "stdout",
     "output_type": "stream",
     "text": [
      "d\n"
     ]
    }
   ],
   "source": [
    "spam=['a','b','c','d']\n",
    "print(spam[int(int('3' * 2) / 11)])"
   ]
  },
  {
   "cell_type": "markdown",
   "id": "c5419c49",
   "metadata": {},
   "source": [
    ">__4. What is the value of spam[-1]?__"
   ]
  },
  {
   "cell_type": "code",
   "execution_count": 5,
   "id": "3953053b",
   "metadata": {},
   "outputs": [
    {
     "name": "stdout",
     "output_type": "stream",
     "text": [
      "d\n"
     ]
    }
   ],
   "source": [
    "spam=['a','b','c','d']\n",
    "print(spam[-1])"
   ]
  },
  {
   "cell_type": "markdown",
   "id": "befb10fe",
   "metadata": {},
   "source": [
    ">__5. What is the value of spam[:2]?__"
   ]
  },
  {
   "cell_type": "code",
   "execution_count": 6,
   "id": "1cf91c6e",
   "metadata": {},
   "outputs": [
    {
     "name": "stdout",
     "output_type": "stream",
     "text": [
      "['a', 'b']\n"
     ]
    }
   ],
   "source": [
    "spam=['a','b','c','d']\n",
    "print(spam[:2])"
   ]
  },
  {
   "cell_type": "markdown",
   "id": "43b25f7b",
   "metadata": {},
   "source": [
    ">__Let's pretend bacon has the list [3.14, 'cat,' 11, 'cat,' True] for the next three questions.<br>\n",
    "6. What is the value of bacon.index('cat')?__\n"
   ]
  },
  {
   "cell_type": "code",
   "execution_count": 9,
   "id": "f23c80ea",
   "metadata": {},
   "outputs": [
    {
     "data": {
      "text/plain": [
       "1"
      ]
     },
     "execution_count": 9,
     "metadata": {},
     "output_type": "execute_result"
    }
   ],
   "source": [
    "bacon = [3.14, 'cat', 11, 'cat', True] \n",
    "bacon.index('cat')"
   ]
  },
  {
   "cell_type": "markdown",
   "id": "907c0e11",
   "metadata": {},
   "source": [
    ">__7. How does bacon.append(99) change the look of the list value in bacon?__"
   ]
  },
  {
   "cell_type": "code",
   "execution_count": 10,
   "id": "e6c2af85",
   "metadata": {},
   "outputs": [
    {
     "name": "stdout",
     "output_type": "stream",
     "text": [
      "[3.14, 'cat', 11, 'cat', True, 99]\n"
     ]
    }
   ],
   "source": [
    "bacon = [3.14, 'cat', 11, 'cat', True]\n",
    "bacon.append(99) # append function inserts a value at the end of the list.\n",
    "print(bacon)"
   ]
  },
  {
   "cell_type": "markdown",
   "id": "a3853c7d",
   "metadata": {},
   "source": [
    ">__8. How does bacon.remove('cat') change the look of the list in bacon?__"
   ]
  },
  {
   "cell_type": "code",
   "execution_count": 11,
   "id": "19a60bf1",
   "metadata": {},
   "outputs": [
    {
     "name": "stdout",
     "output_type": "stream",
     "text": [
      "[3.14, 11, 'cat', True]\n"
     ]
    }
   ],
   "source": [
    "bacon = [3.14, 'cat', 11, 'cat', True]\n",
    "bacon.remove('cat')\n",
    "print(bacon)"
   ]
  },
  {
   "cell_type": "markdown",
   "id": "eb4932e1",
   "metadata": {},
   "source": [
    ">__9. What are the list concatenation and list replication operators?__"
   ]
  },
  {
   "cell_type": "markdown",
   "id": "c5137f14",
   "metadata": {},
   "source": [
    "Ans.  The operator for list concatenation is +, while the operator for replication is *. (This is the same as for strings.)"
   ]
  },
  {
   "cell_type": "markdown",
   "id": "55888177",
   "metadata": {},
   "source": [
    ">__10. What is difference between the list methods append() and insert()?__"
   ]
  },
  {
   "cell_type": "markdown",
   "id": "c42d0c30",
   "metadata": {},
   "source": [
    "Ans.  The only difference between append() and insert() is that insert function allows us to add a specific element at a specified index of the list unlike append() where we can add the element only at end of the list."
   ]
  },
  {
   "cell_type": "markdown",
   "id": "082b4312",
   "metadata": {},
   "source": [
    ">__11. What are the two methods for removing items from a list?__"
   ]
  },
  {
   "cell_type": "markdown",
   "id": "791df445",
   "metadata": {},
   "source": [
    "Ans.  The methods are remove(), pop() and clear(). It helps to remove the very first given element matching from the list. The pop() method removes an element from the list based on the index given. The clear() method will remove all the elements present in the list."
   ]
  },
  {
   "cell_type": "markdown",
   "id": "4b912d04",
   "metadata": {},
   "source": [
    ">__12. Describe how list values and string values are identical.__\n"
   ]
  },
  {
   "cell_type": "markdown",
   "id": "43c7b600",
   "metadata": {},
   "source": [
    "Ans.  The similarity between Lists and Strings in Python is that both are sequences. The differences between them are that firstly, Lists are mutable but Strings are immutable. Secondly, elements of a list can be of different types whereas a String only contains characters that are all of String type."
   ]
  },
  {
   "cell_type": "markdown",
   "id": "9e4e3d2d",
   "metadata": {},
   "source": [
    ">__13. What's the difference between tuples and lists?__"
   ]
  },
  {
   "cell_type": "markdown",
   "id": "d8996f8a",
   "metadata": {},
   "source": [
    "Ans.  The key difference between the tuples and lists is that while the tuples are immutable objects the lists are mutable. This means that tuples cannot be changed while the lists can be modified. Tuples are more memory efficient than the lists. In python a list can be created using [] and a tuple can be created using ()."
   ]
  },
  {
   "cell_type": "markdown",
   "id": "87fa02c2",
   "metadata": {},
   "source": [
    ">__14. How do you type a tuple value that only contains the integer 42?__"
   ]
  },
  {
   "cell_type": "markdown",
   "id": "de5b9f94",
   "metadata": {},
   "source": [
    "Ans.  By Using a trailng comma. see example below."
   ]
  },
  {
   "cell_type": "code",
   "execution_count": 14,
   "id": "b92f93ee",
   "metadata": {},
   "outputs": [
    {
     "data": {
      "text/plain": [
       "tuple"
      ]
     },
     "execution_count": 14,
     "metadata": {},
     "output_type": "execute_result"
    }
   ],
   "source": [
    "a=(42,)\n",
    "type(a)"
   ]
  },
  {
   "cell_type": "markdown",
   "id": "37a49348",
   "metadata": {},
   "source": [
    ">__15. How do you get a list value's tuple form? How do you get a tuple value's list form?__"
   ]
  },
  {
   "cell_type": "code",
   "execution_count": 5,
   "id": "5b7793cd",
   "metadata": {},
   "outputs": [
    {
     "name": "stdout",
     "output_type": "stream",
     "text": [
      "(1, 2, 3, 4, 5)\n",
      "[1, 2, 3, 4, 5]\n"
     ]
    }
   ],
   "source": [
    "x=[1,2,3,4,5]\n",
    "s=tuple(x) #list to tuple\n",
    "print(s)\n",
    "y=list(x)  #tuple to list\n",
    "print(y)"
   ]
  },
  {
   "cell_type": "markdown",
   "id": "28e731e1",
   "metadata": {},
   "source": [
    ">__16. Variables that \"contain\" list values are not necessarily lists themselves. Instead, what do they contain?__"
   ]
  },
  {
   "cell_type": "markdown",
   "id": "98a5dfb7",
   "metadata": {},
   "source": [
    "Ans.  Variables will contain references to list values rather than list values themselves. But for strings and integer values, variables simply contain the string or integer value."
   ]
  }
 ],
 "metadata": {
  "kernelspec": {
   "display_name": "Python 3",
   "language": "python",
   "name": "python3"
  },
  "language_info": {
   "codemirror_mode": {
    "name": "ipython",
    "version": 3
   },
   "file_extension": ".py",
   "mimetype": "text/x-python",
   "name": "python",
   "nbconvert_exporter": "python",
   "pygments_lexer": "ipython3",
   "version": "3.8.8"
  }
 },
 "nbformat": 4,
 "nbformat_minor": 5
}
